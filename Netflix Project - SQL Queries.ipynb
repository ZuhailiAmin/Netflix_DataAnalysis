{
 "cells": [
  {
   "cell_type": "markdown",
   "id": "b37d0579",
   "metadata": {},
   "source": [
    "# SQL Query on Netflix Dataset\n",
    "\n",
    "Greetings, everyone! Within this Jupyter Notebook, my focus will be on examining the Netflix Dataset, which I've obtained from Kaggle (https://www.kaggle.com/datasets/shivamb/netflix-shows). \n",
    "\n",
    "I'll leverage Pandas and the SQLAlchemy library to to transform the CSV file into a DataFrame, as well as execute SQL queries on the dataset."
   ]
  },
  {
   "cell_type": "markdown",
   "id": "b99d8962",
   "metadata": {},
   "source": [
    "## Step 1: Install and Import Relevant Libraries and Packages\n",
    "\n",
    "We will require pandas and SQLAlchemy, so I will be installing and importing them."
   ]
  },
  {
   "cell_type": "code",
   "execution_count": 1,
   "id": "f2dd50f4",
   "metadata": {},
   "outputs": [
    {
     "name": "stdout",
     "output_type": "stream",
     "text": [
      "Requirement already satisfied: pandas in /Users/zuhailiamin/opt/anaconda3/lib/python3.9/site-packages (1.4.2)\n",
      "Requirement already satisfied: sqlalchemy in /Users/zuhailiamin/opt/anaconda3/lib/python3.9/site-packages (1.4.32)\n",
      "Requirement already satisfied: python-dateutil>=2.8.1 in /Users/zuhailiamin/opt/anaconda3/lib/python3.9/site-packages (from pandas) (2.8.2)\n",
      "Requirement already satisfied: pytz>=2020.1 in /Users/zuhailiamin/opt/anaconda3/lib/python3.9/site-packages (from pandas) (2023.3)\n",
      "Requirement already satisfied: numpy>=1.18.5 in /Users/zuhailiamin/opt/anaconda3/lib/python3.9/site-packages (from pandas) (1.21.5)\n",
      "Requirement already satisfied: greenlet!=0.4.17 in /Users/zuhailiamin/opt/anaconda3/lib/python3.9/site-packages (from sqlalchemy) (1.1.1)\n",
      "Requirement already satisfied: six>=1.5 in /Users/zuhailiamin/opt/anaconda3/lib/python3.9/site-packages (from python-dateutil>=2.8.1->pandas) (1.16.0)\n"
     ]
    }
   ],
   "source": [
    "!pip install pandas sqlalchemy"
   ]
  },
  {
   "cell_type": "code",
   "execution_count": 2,
   "id": "1eeb7746",
   "metadata": {},
   "outputs": [],
   "source": [
    "import pandas as pd\n",
    "from sqlalchemy import create_engine"
   ]
  },
  {
   "cell_type": "markdown",
   "id": "398fe8ca",
   "metadata": {},
   "source": [
    "## Step 2: Read CSV File\n",
    "\n",
    "The dataset that I have taken from Kaggle is in a .csv format. I will be using Pandas to read the dataset from my local computer as a DataFrame."
   ]
  },
  {
   "cell_type": "code",
   "execution_count": 33,
   "id": "30b5730a",
   "metadata": {},
   "outputs": [],
   "source": [
    "file_path = 'netflix_titles.csv'\n",
    "df = pd.read_csv(file_path)"
   ]
  },
  {
   "cell_type": "code",
   "execution_count": 34,
   "id": "cfd5e1f3",
   "metadata": {},
   "outputs": [],
   "source": [
    "df = df.dropna()"
   ]
  },
  {
   "cell_type": "code",
   "execution_count": 35,
   "id": "73c44835",
   "metadata": {},
   "outputs": [
    {
     "data": {
      "text/html": [
       "<div>\n",
       "<style scoped>\n",
       "    .dataframe tbody tr th:only-of-type {\n",
       "        vertical-align: middle;\n",
       "    }\n",
       "\n",
       "    .dataframe tbody tr th {\n",
       "        vertical-align: top;\n",
       "    }\n",
       "\n",
       "    .dataframe thead th {\n",
       "        text-align: right;\n",
       "    }\n",
       "</style>\n",
       "<table border=\"1\" class=\"dataframe\">\n",
       "  <thead>\n",
       "    <tr style=\"text-align: right;\">\n",
       "      <th></th>\n",
       "      <th>show_id</th>\n",
       "      <th>type</th>\n",
       "      <th>title</th>\n",
       "      <th>director</th>\n",
       "      <th>cast</th>\n",
       "      <th>country</th>\n",
       "      <th>date_added</th>\n",
       "      <th>release_year</th>\n",
       "      <th>rating</th>\n",
       "      <th>duration</th>\n",
       "      <th>listed_in</th>\n",
       "      <th>description</th>\n",
       "    </tr>\n",
       "  </thead>\n",
       "  <tbody>\n",
       "    <tr>\n",
       "      <th>7</th>\n",
       "      <td>s8</td>\n",
       "      <td>Movie</td>\n",
       "      <td>Sankofa</td>\n",
       "      <td>Haile Gerima</td>\n",
       "      <td>Kofi Ghanaba, Oyafunmike Ogunlano, Alexandra D...</td>\n",
       "      <td>United States, Ghana, Burkina Faso, United Kin...</td>\n",
       "      <td>September 24, 2021</td>\n",
       "      <td>1993</td>\n",
       "      <td>TV-MA</td>\n",
       "      <td>125 min</td>\n",
       "      <td>Dramas, Independent Movies, International Movies</td>\n",
       "      <td>On a photo shoot in Ghana, an American model s...</td>\n",
       "    </tr>\n",
       "    <tr>\n",
       "      <th>8</th>\n",
       "      <td>s9</td>\n",
       "      <td>TV Show</td>\n",
       "      <td>The Great British Baking Show</td>\n",
       "      <td>Andy Devonshire</td>\n",
       "      <td>Mel Giedroyc, Sue Perkins, Mary Berry, Paul Ho...</td>\n",
       "      <td>United Kingdom</td>\n",
       "      <td>September 24, 2021</td>\n",
       "      <td>2021</td>\n",
       "      <td>TV-14</td>\n",
       "      <td>9 Seasons</td>\n",
       "      <td>British TV Shows, Reality TV</td>\n",
       "      <td>A talented batch of amateur bakers face off in...</td>\n",
       "    </tr>\n",
       "    <tr>\n",
       "      <th>9</th>\n",
       "      <td>s10</td>\n",
       "      <td>Movie</td>\n",
       "      <td>The Starling</td>\n",
       "      <td>Theodore Melfi</td>\n",
       "      <td>Melissa McCarthy, Chris O'Dowd, Kevin Kline, T...</td>\n",
       "      <td>United States</td>\n",
       "      <td>September 24, 2021</td>\n",
       "      <td>2021</td>\n",
       "      <td>PG-13</td>\n",
       "      <td>104 min</td>\n",
       "      <td>Comedies, Dramas</td>\n",
       "      <td>A woman adjusting to life after a loss contend...</td>\n",
       "    </tr>\n",
       "    <tr>\n",
       "      <th>12</th>\n",
       "      <td>s13</td>\n",
       "      <td>Movie</td>\n",
       "      <td>Je Suis Karl</td>\n",
       "      <td>Christian Schwochow</td>\n",
       "      <td>Luna Wedler, Jannis Niewöhner, Milan Peschel, ...</td>\n",
       "      <td>Germany, Czech Republic</td>\n",
       "      <td>September 23, 2021</td>\n",
       "      <td>2021</td>\n",
       "      <td>TV-MA</td>\n",
       "      <td>127 min</td>\n",
       "      <td>Dramas, International Movies</td>\n",
       "      <td>After most of her family is murdered in a terr...</td>\n",
       "    </tr>\n",
       "    <tr>\n",
       "      <th>24</th>\n",
       "      <td>s25</td>\n",
       "      <td>Movie</td>\n",
       "      <td>Jeans</td>\n",
       "      <td>S. Shankar</td>\n",
       "      <td>Prashanth, Aishwarya Rai Bachchan, Sri Lakshmi...</td>\n",
       "      <td>India</td>\n",
       "      <td>September 21, 2021</td>\n",
       "      <td>1998</td>\n",
       "      <td>TV-14</td>\n",
       "      <td>166 min</td>\n",
       "      <td>Comedies, International Movies, Romantic Movies</td>\n",
       "      <td>When the father of the man she loves insists t...</td>\n",
       "    </tr>\n",
       "  </tbody>\n",
       "</table>\n",
       "</div>"
      ],
      "text/plain": [
       "   show_id     type                          title             director  \\\n",
       "7       s8    Movie                        Sankofa         Haile Gerima   \n",
       "8       s9  TV Show  The Great British Baking Show      Andy Devonshire   \n",
       "9      s10    Movie                   The Starling       Theodore Melfi   \n",
       "12     s13    Movie                   Je Suis Karl  Christian Schwochow   \n",
       "24     s25    Movie                          Jeans           S. Shankar   \n",
       "\n",
       "                                                 cast  \\\n",
       "7   Kofi Ghanaba, Oyafunmike Ogunlano, Alexandra D...   \n",
       "8   Mel Giedroyc, Sue Perkins, Mary Berry, Paul Ho...   \n",
       "9   Melissa McCarthy, Chris O'Dowd, Kevin Kline, T...   \n",
       "12  Luna Wedler, Jannis Niewöhner, Milan Peschel, ...   \n",
       "24  Prashanth, Aishwarya Rai Bachchan, Sri Lakshmi...   \n",
       "\n",
       "                                              country          date_added  \\\n",
       "7   United States, Ghana, Burkina Faso, United Kin...  September 24, 2021   \n",
       "8                                      United Kingdom  September 24, 2021   \n",
       "9                                       United States  September 24, 2021   \n",
       "12                            Germany, Czech Republic  September 23, 2021   \n",
       "24                                              India  September 21, 2021   \n",
       "\n",
       "    release_year rating   duration  \\\n",
       "7           1993  TV-MA    125 min   \n",
       "8           2021  TV-14  9 Seasons   \n",
       "9           2021  PG-13    104 min   \n",
       "12          2021  TV-MA    127 min   \n",
       "24          1998  TV-14    166 min   \n",
       "\n",
       "                                           listed_in  \\\n",
       "7   Dramas, Independent Movies, International Movies   \n",
       "8                       British TV Shows, Reality TV   \n",
       "9                                   Comedies, Dramas   \n",
       "12                      Dramas, International Movies   \n",
       "24   Comedies, International Movies, Romantic Movies   \n",
       "\n",
       "                                          description  \n",
       "7   On a photo shoot in Ghana, an American model s...  \n",
       "8   A talented batch of amateur bakers face off in...  \n",
       "9   A woman adjusting to life after a loss contend...  \n",
       "12  After most of her family is murdered in a terr...  \n",
       "24  When the father of the man she loves insists t...  "
      ]
     },
     "execution_count": 35,
     "metadata": {},
     "output_type": "execute_result"
    }
   ],
   "source": [
    "df.head()"
   ]
  },
  {
   "cell_type": "markdown",
   "id": "7a526dc3",
   "metadata": {},
   "source": [
    "## Step 3: Creat In-Memory Database and Save DataFrame\n",
    "\n",
    "Next, I will be creating an SQLite database engine in memory. The sqlite:///:memory: URL indicates that the database will exist only in memory and will not be persisted to disk. This is useful for temporary storage and testing.\n",
    "\n",
    "Subsequently, I will write the contents of the DataFrame (df) into an SQLite table named 'netflix_titles' within the in-memory database specified by the engine. The index=False parameter indicates that the DataFrame's index should not be included as a separate column in the database table."
   ]
  },
  {
   "cell_type": "code",
   "execution_count": 36,
   "id": "fe093693",
   "metadata": {},
   "outputs": [
    {
     "data": {
      "text/plain": [
       "5332"
      ]
     },
     "execution_count": 36,
     "metadata": {},
     "output_type": "execute_result"
    }
   ],
   "source": [
    "engine = create_engine('sqlite:///:memory:')  # Use an in-memory SQLite database\n",
    "df.to_sql('netflix_titles', engine, index=False)"
   ]
  },
  {
   "cell_type": "markdown",
   "id": "2ea0b694",
   "metadata": {},
   "source": [
    "## Step 4: Basic Queries\n",
    "\n",
    "Next, I will be running basic queries to:\n",
    "- Get information about the dataset\n",
    "- Display the types of netflix titles\n",
    "- Display the number of shows added by country"
   ]
  },
  {
   "cell_type": "code",
   "execution_count": 45,
   "id": "93dc1b03",
   "metadata": {},
   "outputs": [
    {
     "name": "stdout",
     "output_type": "stream",
     "text": [
      "  show_id     type                          title             director  \\\n",
      "0      s8    Movie                        Sankofa         Haile Gerima   \n",
      "1      s9  TV Show  The Great British Baking Show      Andy Devonshire   \n",
      "2     s10    Movie                   The Starling       Theodore Melfi   \n",
      "3     s13    Movie                   Je Suis Karl  Christian Schwochow   \n",
      "4     s25    Movie                          Jeans           S. Shankar   \n",
      "\n",
      "                                                cast  \\\n",
      "0  Kofi Ghanaba, Oyafunmike Ogunlano, Alexandra D...   \n",
      "1  Mel Giedroyc, Sue Perkins, Mary Berry, Paul Ho...   \n",
      "2  Melissa McCarthy, Chris O'Dowd, Kevin Kline, T...   \n",
      "3  Luna Wedler, Jannis Niewöhner, Milan Peschel, ...   \n",
      "4  Prashanth, Aishwarya Rai Bachchan, Sri Lakshmi...   \n",
      "\n",
      "                                             country          date_added  \\\n",
      "0  United States, Ghana, Burkina Faso, United Kin...  September 24, 2021   \n",
      "1                                     United Kingdom  September 24, 2021   \n",
      "2                                      United States  September 24, 2021   \n",
      "3                            Germany, Czech Republic  September 23, 2021   \n",
      "4                                              India  September 21, 2021   \n",
      "\n",
      "   release_year rating   duration  \\\n",
      "0          1993  TV-MA    125 min   \n",
      "1          2021  TV-14  9 Seasons   \n",
      "2          2021  PG-13    104 min   \n",
      "3          2021  TV-MA    127 min   \n",
      "4          1998  TV-14    166 min   \n",
      "\n",
      "                                          listed_in  \\\n",
      "0  Dramas, Independent Movies, International Movies   \n",
      "1                      British TV Shows, Reality TV   \n",
      "2                                  Comedies, Dramas   \n",
      "3                      Dramas, International Movies   \n",
      "4   Comedies, International Movies, Romantic Movies   \n",
      "\n",
      "                                         description  \n",
      "0  On a photo shoot in Ghana, an American model s...  \n",
      "1  A talented batch of amateur bakers face off in...  \n",
      "2  A woman adjusting to life after a loss contend...  \n",
      "3  After most of her family is murdered in a terr...  \n",
      "4  When the father of the man she loves insists t...  \n"
     ]
    }
   ],
   "source": [
    "query = \"SELECT * FROM netflix_titles LIMIT 5\"\n",
    "result = pd.read_sql_query(query, engine)\n",
    "print(result)"
   ]
  },
  {
   "cell_type": "code",
   "execution_count": 38,
   "id": "c0117d85",
   "metadata": {},
   "outputs": [
    {
     "name": "stdout",
     "output_type": "stream",
     "text": [
      "   total_rows  min_year  max_year\n",
      "0        5332      1942      2021\n"
     ]
    }
   ],
   "source": [
    "query = \"SELECT COUNT(*) AS total_rows, MIN(release_year) AS min_year, MAX(release_year) AS max_year FROM netflix_titles\"\n",
    "result = pd.read_sql_query(query, engine)\n",
    "print(result)"
   ]
  },
  {
   "cell_type": "code",
   "execution_count": 39,
   "id": "fe633d35",
   "metadata": {},
   "outputs": [
    {
     "name": "stdout",
     "output_type": "stream",
     "text": [
      "      type\n",
      "0    Movie\n",
      "1  TV Show\n"
     ]
    }
   ],
   "source": [
    "query = \"SELECT DISTINCT type FROM netflix_titles\"\n",
    "result = pd.read_sql_query(query, engine)\n",
    "print(result)"
   ]
  },
  {
   "cell_type": "code",
   "execution_count": 40,
   "id": "bd6559cf",
   "metadata": {},
   "outputs": [
    {
     "name": "stdout",
     "output_type": "stream",
     "text": [
      "                                               country  show_count\n",
      "0                                        United States        1846\n",
      "1                                                India         875\n",
      "2                                       United Kingdom         183\n",
      "3                                               Canada         107\n",
      "4                                                Spain          91\n",
      "..                                                 ...         ...\n",
      "599   Argentina, France, United States, Germany, Qatar           1\n",
      "600                                  Argentina, France           1\n",
      "601                             Argentina, Chile, Peru           1\n",
      "602  Argentina, Brazil, France, Poland, Germany, De...           1\n",
      "603                                  , France, Algeria           1\n",
      "\n",
      "[604 rows x 2 columns]\n"
     ]
    }
   ],
   "source": [
    "query = \"SELECT country, COUNT(*) AS show_count FROM netflix_titles GROUP BY country ORDER BY show_count DESC\"\n",
    "result = pd.read_sql_query(query, engine)\n",
    "print(result)"
   ]
  },
  {
   "cell_type": "markdown",
   "id": "7212fafb",
   "metadata": {},
   "source": [
    "## Step 5: Additional Queries\n",
    "\n",
    "I will be running additional queries to:\n",
    "- Find the Netflix titles that were released in 2021.\n",
    "- Find the Netflix titles that have \"Comedies\" in their tag.\n",
    "- Find the Netflix titles which were directed by Mike Flanagan\n",
    "- Find the director which has the most shows in this dataset."
   ]
  },
  {
   "cell_type": "code",
   "execution_count": 41,
   "id": "62e69d3d",
   "metadata": {},
   "outputs": [
    {
     "name": "stdout",
     "output_type": "stream",
     "text": [
      "                             title  release_year\n",
      "0                     The Starling          2021\n",
      "1                     Je Suis Karl          2021\n",
      "2                             Kate          2021\n",
      "3                       Thimmarusu          2021\n",
      "4                    The Water Man          2021\n",
      "..                             ...           ...\n",
      "141  Tribhanga - Tedhi Medhi Crazy          2021\n",
      "142    What Would Sophia Loren Do?          2021\n",
      "143                       Wish You          2021\n",
      "144                       Charming          2021\n",
      "145      What Happened to Mr. Cha?          2021\n",
      "\n",
      "[146 rows x 2 columns]\n"
     ]
    }
   ],
   "source": [
    "query = \"SELECT title, release_year FROM netflix_titles WHERE type = 'Movie' AND release_year = 2021\"\n",
    "result = pd.read_sql_query(query, engine)\n",
    "print(result)"
   ]
  },
  {
   "cell_type": "code",
   "execution_count": 42,
   "id": "57daed9f",
   "metadata": {},
   "outputs": [
    {
     "name": "stdout",
     "output_type": "stream",
     "text": [
      "                     title                                        listed_in\n",
      "0             The Starling                                 Comedies, Dramas\n",
      "1                    Jeans  Comedies, International Movies, Romantic Movies\n",
      "2                Grown Ups                                         Comedies\n",
      "3     Omo Ghetto: the Saga             Action & Adventure, Comedies, Dramas\n",
      "4                Show Dogs               Children & Family Movies, Comedies\n",
      "...                    ...                                              ...\n",
      "1578           Young Adult             Comedies, Dramas, Independent Movies\n",
      "1579  Yours, Mine and Ours               Children & Family Movies, Comedies\n",
      "1580              Zed Plus           Comedies, Dramas, International Movies\n",
      "1581            Zombieland                          Comedies, Horror Movies\n",
      "1582                  Zoom               Children & Family Movies, Comedies\n",
      "\n",
      "[1583 rows x 2 columns]\n"
     ]
    }
   ],
   "source": [
    "query = \"SELECT title, listed_in FROM netflix_titles WHERE listed_in LIKE '%Comedies%';\"\n",
    "result = pd.read_sql_query(query, engine)\n",
    "print(result)"
   ]
  },
  {
   "cell_type": "code",
   "execution_count": 43,
   "id": "f4929b31",
   "metadata": {},
   "outputs": [
    {
     "name": "stdout",
     "output_type": "stream",
     "text": [
      "           title       director\n",
      "0  Before I Wake  Mike Flanagan\n",
      "1  Gerald's Game  Mike Flanagan\n",
      "2           Hush  Mike Flanagan\n"
     ]
    }
   ],
   "source": [
    "query = \"SELECT title, director FROM netflix_titles WHERE director LIKE '%Mike Flanagan%'\"\n",
    "result = pd.read_sql_query(query, engine)\n",
    "print(result)"
   ]
  },
  {
   "cell_type": "code",
   "execution_count": 44,
   "id": "badcc4c7",
   "metadata": {},
   "outputs": [
    {
     "name": "stdout",
     "output_type": "stream",
     "text": [
      "                 director  show_count\n",
      "0  Raúl Campos, Jan Suter          18\n",
      "1            Marcus Raboy          15\n",
      "2               Jay Karas          14\n",
      "3     Cathy Garcia-Molina          13\n",
      "4         Youssef Chahine          12\n"
     ]
    }
   ],
   "source": [
    "query = \"SELECT director, COUNT(*) AS show_count FROM netflix_titles GROUP BY director ORDER BY show_count DESC LIMIT 5\"\n",
    "result = pd.read_sql_query(query, engine)\n",
    "print(result)"
   ]
  }
 ],
 "metadata": {
  "kernelspec": {
   "display_name": "Python 3 (ipykernel)",
   "language": "python",
   "name": "python3"
  },
  "language_info": {
   "codemirror_mode": {
    "name": "ipython",
    "version": 3
   },
   "file_extension": ".py",
   "mimetype": "text/x-python",
   "name": "python",
   "nbconvert_exporter": "python",
   "pygments_lexer": "ipython3",
   "version": "3.9.12"
  }
 },
 "nbformat": 4,
 "nbformat_minor": 5
}
